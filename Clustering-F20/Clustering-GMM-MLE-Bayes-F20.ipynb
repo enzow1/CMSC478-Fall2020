{
 "cells": [
  {
   "cell_type": "markdown",
   "metadata": {
    "slideshow": {
     "slide_type": "slide"
    }
   },
   "source": [
    "#### <h1><center>CMSC 478: Introduction to Machine Learning</center></h1>\n",
    "\n",
    "<center><img src=\"img/title.jpg\" align=\"center\"/></center>\n",
    "\n",
    "\n",
    "<h3 style=\"color:blue;\"><center>Instructor: Fereydoon Vafaei</center></h3>\n",
    "\n",
    "\n",
    "<h5 style=\"color:purple;\"><center>Clustering, GMM, MLE, and Bayesian Models</center></h5>\n",
    "\n",
    "<center><img src=\"img/UMBC_logo.png\" align=\"center\"/></center>"
   ]
  },
  {
   "cell_type": "markdown",
   "metadata": {
    "slideshow": {
     "slide_type": "slide"
    }
   },
   "source": [
    "<h1><center>Agenda</center></h1>\n",
    "\n",
    "- <b>Unsupervised Learning</b>\n",
    "    - Clustering\n",
    "        - K-Means\n",
    "        - DBSCAN\n",
    "        - Agglomerative Clustering\n",
    "    - Clustering for Image Segmentation\n",
    "    - Clustering for Preprocessing and Semi-Supervised Learning\n",
    "- <b>Gaussian Mixture Models (GMM)</b>\n",
    "- <b>Maximum Likelihood Estimation (MLE)</b>\n",
    "- <b>Bayes' Theorem and Bayesian Models</b>"
   ]
  },
  {
   "cell_type": "markdown",
   "metadata": {
    "slideshow": {
     "slide_type": "slide"
    }
   },
   "source": [
    "<h1><center>Unsupervised Learning Techniques</center></h1>\n",
    "\n",
    "Here are a few Unsupervised Learning techniques applicable on unlabeled data:\n",
    "\n",
    "- Dimensionality Reduction: Projecting high-dimensional data into spaces with lower dimensionality.\n",
    "\n",
    "\n",
    "- Clustering: Grouping similar instances together into clusters.\n",
    "\n",
    "\n",
    "- Anomaly Detection: Learning what **normal** data looks like, and then use that to detect abnormal instances, such as defective items on a production line or a new trend in a time series.\n",
    "\n",
    "\n",
    "- Density Estimation: Estimating the Probability Density Function (PDF) of the random process that generated the dataset."
   ]
  },
  {
   "cell_type": "markdown",
   "metadata": {
    "slideshow": {
     "slide_type": "slide"
    }
   },
   "source": [
    "<h1><center>Clustering</center></h1>\n",
    "\n",
    "- The goal is to group similar instances together into clusters.\n",
    "\n",
    "\n",
    "- Clustering is a great tool for data analysis, customer segmentation, recommender systems, search engines, image segmentation, semi-supervised learning, dimensionality reduction, and more.\n",
    "\n",
    "\n",
    "- Just like in classification, each instance gets assigned to a group. However, unlike classification, clustering is an **unsupervised** task."
   ]
  },
  {
   "cell_type": "markdown",
   "metadata": {
    "slideshow": {
     "slide_type": "slide"
    }
   },
   "source": [
    "<h1><center>Clustering</center></h1>\n",
    "\n",
    "<center><img src=\"img/clustering-1.png\" align=\"center\"/></center>\n",
    "\n",
    "<font size='1'>Slide from Ref[4]</font>"
   ]
  },
  {
   "cell_type": "markdown",
   "metadata": {
    "slideshow": {
     "slide_type": "slide"
    }
   },
   "source": [
    "<h1><center>Similarity</center></h1>\n",
    "\n",
    "<center><img src=\"img/similarity.png\" align=\"center\"/></center>\n",
    "\n",
    "<font size='1'>Slide from Ref[4]</font>"
   ]
  },
  {
   "cell_type": "markdown",
   "metadata": {
    "slideshow": {
     "slide_type": "slide"
    }
   },
   "source": [
    "<h1><center>Clustering Approaches</center></h1>\n",
    "\n",
    "<center><img src=\"img/clustering-2.png\" align=\"center\"/></center>\n",
    "\n",
    "<font size='1'>Slide from Ref[3]</font>"
   ]
  },
  {
   "cell_type": "markdown",
   "metadata": {
    "slideshow": {
     "slide_type": "slide"
    }
   },
   "source": [
    "<h1><center>K-Means</center></h1>\n",
    "\n",
    "<center><img src=\"img/k-means-1.png\" align=\"center\"/></center>\n",
    "\n",
    "<font size='1'>Slide from Ref[2]</font>"
   ]
  },
  {
   "cell_type": "markdown",
   "metadata": {
    "slideshow": {
     "slide_type": "slide"
    }
   },
   "source": [
    "<h1><center>K-Means</center></h1>\n",
    "\n",
    "<center><img src=\"img/k-means-2.png\" align=\"center\"/></center>\n",
    "\n",
    "<font size='1'>Slide from Ref[2]</font>"
   ]
  },
  {
   "cell_type": "markdown",
   "metadata": {
    "slideshow": {
     "slide_type": "slide"
    }
   },
   "source": [
    "<h1><center>K-Means</center></h1>\n",
    "\n",
    "<center><img src=\"img/k-means-3.png\" align=\"center\"/></center>\n",
    "\n",
    "<font size='1'>Slide from Ref[2]</font>"
   ]
  },
  {
   "cell_type": "markdown",
   "metadata": {
    "slideshow": {
     "slide_type": "slide"
    }
   },
   "source": [
    "<h1><center>K-Means</center></h1>\n",
    "\n",
    "<center><img src=\"img/k-means-4.png\" align=\"center\"/></center>\n",
    "\n",
    "<font size='1'>Slide from Ref[2]</font>"
   ]
  },
  {
   "cell_type": "markdown",
   "metadata": {
    "slideshow": {
     "slide_type": "slide"
    }
   },
   "source": [
    "<h1><center>K-Means</center></h1>\n",
    "\n",
    "<center><img src=\"img/k-means-5.png\" align=\"center\"/></center>\n",
    "\n",
    "<font size='1'>Slide from Ref[2]</font>"
   ]
  },
  {
   "cell_type": "markdown",
   "metadata": {
    "slideshow": {
     "slide_type": "slide"
    }
   },
   "source": [
    "<h1><center>K-Means</center></h1>\n",
    "\n",
    "<center><img src=\"img/k-means-ex-1.png\" align=\"center\"/></center>\n",
    "\n",
    "<font size='1'>Slide from Ref[5]</font>"
   ]
  },
  {
   "cell_type": "markdown",
   "metadata": {
    "slideshow": {
     "slide_type": "slide"
    }
   },
   "source": [
    "<h1><center>K-Means Example</center></h1>\n",
    "\n",
    "<center><img src=\"img/k-means-ex-2.png\" align=\"center\"/></center>\n",
    "\n",
    "<font size='1'>Slide from Ref[5]</font>"
   ]
  },
  {
   "cell_type": "markdown",
   "metadata": {
    "slideshow": {
     "slide_type": "slide"
    }
   },
   "source": [
    "<h1><center>K-Means Example</center></h1>\n",
    "\n",
    "<center><img src=\"img/k-means-ex-3.png\" align=\"center\"/></center>\n",
    "\n",
    "<font size='1'>Slide from Ref[5]</font>"
   ]
  },
  {
   "cell_type": "markdown",
   "metadata": {
    "slideshow": {
     "slide_type": "slide"
    }
   },
   "source": [
    "<h1><center>K-Means Example</center></h1>\n",
    "\n",
    "<center><img src=\"img/k-means-ex-4.png\" align=\"center\"/></center>\n",
    "\n",
    "<font size='1'>Slide from Ref[5]</font>"
   ]
  },
  {
   "cell_type": "markdown",
   "metadata": {
    "slideshow": {
     "slide_type": "slide"
    }
   },
   "source": [
    "<h1><center>K-Means Example</center></h1>\n",
    "\n",
    "<center><img src=\"img/k-means-ex-5.png\" align=\"center\"/></center>\n",
    "\n",
    "<font size='1'>Slide from Ref[5]</font>"
   ]
  },
  {
   "cell_type": "markdown",
   "metadata": {
    "slideshow": {
     "slide_type": "slide"
    }
   },
   "source": [
    "<h1><center>K-Means Demo</center></h1>\n",
    "\n",
    "https://www.naftaliharris.com/blog/visualizing-k-means-clustering/"
   ]
  },
  {
   "cell_type": "markdown",
   "metadata": {
    "slideshow": {
     "slide_type": "slide"
    }
   },
   "source": [
    "<h1><center>Centroid Initialization</center></h1>\n",
    "\n",
    "- Although the K-Means algorithm is guaranteed to converge, it may not converge to the right solution (i.e., it may converge to a local optimum).\n",
    "\n",
    "\n",
    "- Whether K-Means converges to the right solution or not depends on the centroid initialization.\n",
    "\n",
    "<center><img src=\"img/centroid.png\" align=\"center\"/></center>\n",
    "\n",
    "<font size='1'>Image from Ref[1]</font>"
   ]
  },
  {
   "cell_type": "markdown",
   "metadata": {
    "slideshow": {
     "slide_type": "slide"
    }
   },
   "source": [
    "<h1><center>Centroid Initialization and Performance Metric</center></h1>\n",
    "\n",
    "- A solution to the issue with centroid initializationis is to run the algorithm multiple times with different random initializations and keep the best solution.\n",
    "\n",
    "\n",
    "- However, the question would be how exactly we can know which solution is the best.\n",
    "\n",
    "\n",
    "- That is why a **performance metric** is needed to evaluate clustering models!\n",
    "\n",
    "\n",
    "- One metric to evaluate clustering model is called the model’s **inertia**, which is the **mean squared distance** between each instance and its closest centroid. The best model is the the model with the lowest **inertia**."
   ]
  },
  {
   "cell_type": "markdown",
   "metadata": {
    "slideshow": {
     "slide_type": "slide"
    }
   },
   "source": [
    "<h1><center>K-Means ++</center></h1>\n",
    "\n",
    "- An important improvement to the K-Means algorithm, **K-Means++**, was proposed in a 2006 paper by David Arthur and Sergei Vassilvitskii.\n",
    "\n",
    "\n",
    "- They introduced a smarter initialization step that tends to select centroids that are distant from one another.\n",
    "\n",
    "\n",
    "- This improvement makes the K-Means algorithm much less likely to converge to a suboptimal solution.\n",
    "\n",
    "\n",
    "- The `KMeans` class of scikit-learn uses this initialization method by default."
   ]
  },
  {
   "cell_type": "markdown",
   "metadata": {
    "slideshow": {
     "slide_type": "slide"
    }
   },
   "source": [
    "<h1><center>Accelerated K-Means and Mini-Batch K-Means</center></h1>\n",
    "\n",
    "- Another important improvement to the K-Means algorithm was proposed in a 2003 paper by Charles Elkan, called **Accelerated K-Means**. This is the algorithm the `KMeans` class of scikit-learn uses by default.\n",
    "\n",
    "\n",
    "- **Accelerated K-Means** considerably accelerates the algorithm by avoiding many unnecessary distance calculations.\n",
    "\n",
    "\n",
    "- Yet another important variant of the K-Means algorithm was proposed in a 2010 paper by David Sculley, called **Mini-Batch K-Means**. Instead of using the full dataset at each iteration, the algorithm is capable of using mini-batches, moving the centroids just slightly at each iteration.\n",
    "\n",
    "\n",
    "- **Mini-batch K-Means** speeds up the algorithm typically by a factor of three or four and makes it possible to cluster huge datasets that do not fit in memory.\n",
    "\n",
    "\n",
    "- Scikit-Learn implements this algorithm in the `MiniBatchKMeans` class."
   ]
  },
  {
   "cell_type": "markdown",
   "metadata": {
    "slideshow": {
     "slide_type": "slide"
    }
   },
   "source": [
    "<h1><center>Mini-Batch K-Means vs K-Means</center></h1>\n",
    "\n",
    "\n",
    "<center><img src=\"img/mini-batch.png\" align=\"center\"/></center>\n",
    "\n",
    "<font size='1'>Image from Ref[1]</font>"
   ]
  },
  {
   "cell_type": "markdown",
   "metadata": {
    "slideshow": {
     "slide_type": "slide"
    }
   },
   "source": [
    "<h1><center>Finding the Optimal Number of Clusters</center></h1>\n",
    "\n",
    "<center><img src=\"img/optimal-number.png\" align=\"center\"/></center>\n",
    "\n",
    "<font size='1'>Image from Ref[1]</font>"
   ]
  },
  {
   "cell_type": "markdown",
   "metadata": {
    "slideshow": {
     "slide_type": "slide"
    }
   },
   "source": [
    "<h1><center>Silhouette Score</center></h1>\n",
    "\n",
    "- A precise approach (but also computationally expensive) to find the optimal number of clusters is to use the **silhouette score**, which is the mean **silhouette coefficient** over all the instances.\n",
    "\n",
    "\n",
    "- An instance’s **silhouette coefficient** is equal to $\\frac{(b – a)} {max(a, b)}$ where a is the mean distance to the other instances in the same cluster (i.e., the mean intra-cluster distance) and b is the mean nearest-cluster distance i.e., the mean distance to the instances of the next closest cluster, defined as the one that minimizes b, excluding the instance’s own cluster.\n",
    "\n",
    "\n",
    "- The **silhouette coefficient** can vary between –1 and +1.\n",
    "\n",
    "\n",
    "- A coefficient close to +1 means that the instance is well inside its own cluster and far from other clusters, while a coefficient close to 0 means that it is close to a cluster boundary, and finally a coefficient close to –1 means that the instance may have been assigned to the wrong cluster."
   ]
  },
  {
   "cell_type": "markdown",
   "metadata": {
    "slideshow": {
     "slide_type": "slide"
    }
   },
   "source": [
    "<h1><center>Silhouette Score</center></h1>\n",
    "\n",
    "<center><img src=\"img/silhouette.svg\" align=\"center\"/></center>\n",
    "\n",
    "<font size='1'>Image from Ref[6]</font>"
   ]
  },
  {
   "cell_type": "markdown",
   "metadata": {
    "slideshow": {
     "slide_type": "slide"
    }
   },
   "source": [
    "<h1><center>Silhouette Diagram</center></h1>\n",
    "\n",
    "- The knife shape’s height indicates the number of instances the cluster contains, and its width represents the sorted silhouette coefficients of the instances in the cluster (wider is better). The dashed line indicates the mean silhouette coefficient.\n",
    "\n",
    "<center><img src=\"img/silhouette-diagram.png\" align=\"center\"/></center>\n",
    "\n",
    "<font size='1'>Image from Ref[1]</font>"
   ]
  },
  {
   "cell_type": "markdown",
   "metadata": {
    "slideshow": {
     "slide_type": "slide"
    }
   },
   "source": [
    "<h1><center>K-Means Limits</center></h1>\n",
    "\n",
    "- Despite its many merits, most notably being fast and scalable, K-Means is not perfect:\n",
    "\n",
    "    - It is necessary to run the algorithm several times to avoid suboptimal solutions.\n",
    "    - You need to specify the number of clusters, which can be quite a hassle.\n",
    "    - K-Means does not behave very well when the clusters have varying sizes, different densities, or nonspherical shapes.\n",
    "    - It is important to scale the input features before you run K-Means, or the clusters may be very stretched and K-Means will perform poorly. Scaling the features does not guarantee that all the clusters will be nice and spherical, but it generally improves things."
   ]
  },
  {
   "cell_type": "markdown",
   "metadata": {
    "slideshow": {
     "slide_type": "slide"
    }
   },
   "source": [
    "<h1><center>Image Segmentation</center></h1>\n",
    "\n",
    "<center><img src=\"img/image-segmentation-1.png\" align=\"center\"/></center>\n",
    "\n",
    "<font size='1'>Image from Ref[7]</font>"
   ]
  },
  {
   "cell_type": "markdown",
   "metadata": {
    "slideshow": {
     "slide_type": "slide"
    }
   },
   "source": [
    "<h1><center>Clustering for Image Segmentation</center></h1>\n",
    "\n",
    "<center><img src=\"img/image-segmentation-2.png\" align=\"center\"/></center>\n",
    "\n",
    "<font size='1'>Image from Ref[5]</font>"
   ]
  },
  {
   "cell_type": "markdown",
   "metadata": {
    "slideshow": {
     "slide_type": "slide"
    }
   },
   "source": [
    "<h1><center>Clustering for Image Segmentation</center></h1>\n",
    "\n",
    "<center><img src=\"img/image-segmentation-3.png\" align=\"center\"/></center>\n",
    "\n",
    "<font size='1'>Image from Ref[5]</font>"
   ]
  },
  {
   "cell_type": "markdown",
   "metadata": {
    "slideshow": {
     "slide_type": "slide"
    }
   },
   "source": [
    "<h1><center>Clustering for Image Segmentation</center></h1>\n",
    "\n",
    "<center><img src=\"img/image-segmentation-text.png\" align=\"center\"/></center>\n",
    "\n",
    "<font size='1'>Image from Ref[1]</font>"
   ]
  },
  {
   "cell_type": "markdown",
   "metadata": {
    "slideshow": {
     "slide_type": "slide"
    }
   },
   "source": [
    "<h1><center>Clustering for Preprocessing and Semi-Supervised Learning</center></h1>\n",
    "\n",
    "- Clustering can be used as a preprocessing step for dimensionality reduction (from original D to K) before applying a classification method.\n",
    "\n",
    "\n",
    "- Moreover, for partially labellled data, clustering can be used for **label propagation**, i.e. assigning the same label for all data points in the same cluster."
   ]
  },
  {
   "cell_type": "markdown",
   "metadata": {
    "slideshow": {
     "slide_type": "slide"
    }
   },
   "source": [
    "<h1><center>Active Learning</center></h1>\n",
    "\n",
    "- To improve semi-supervised learning using clustering, the next step could be to do a few rounds of **active learning**, which is when a human expert interacts with the learning algorithm, providing labels for specific instances when the algorithm requests them.\n",
    "\n",
    "\n",
    "- There are many different strategies for **active learning**, but one of the most common ones is called **uncertainty sampling**. Here is how it works:\n",
    "    1. The model is trained on the labeled instances gathered so far, and this model is used to make predictions on all the unlabeled instances.\n",
    "    2. The instances for which the model is most uncertain (i.e., when its estimated probability is lowest) are given to the expert to be labeled.\n",
    "    3. You iterate this process until the performance improvement stops being worth the labeling effort."
   ]
  },
  {
   "cell_type": "markdown",
   "metadata": {
    "slideshow": {
     "slide_type": "slide"
    }
   },
   "source": [
    "<h1><center>DBSCAN</center></h1>\n",
    "\n",
    "- This algorithm defines clusters as continuous regions of high density. Here is how it works:\n",
    "    - For each instance, the algorithm counts how many instances are located within a small distance **ε** (epsilon) from it. This region is called the instance’s **ε-neighborhood**.\n",
    "    - If an instance has at least `min_samples` instances in its **ε-neighborhood** (including itself), then it is considered a **core instance**. In other words, **core instances** are those that are located in dense regions.\n",
    "    - All instances in the neighborhood of a **core instance** belong to the same cluster. This neighborhood may include other **core instances**; therefore, a long sequence of neighboring **core instances** forms a single cluster.\n",
    "    - Any instance that is not a **core instance** and does not have one in its neighborhood is considered an **anomaly**.\n",
    "    \n",
    "    \n",
    "- **DBSCAN** works well if all the clusters are dense enough and if they are well separated by low-density regions."
   ]
  },
  {
   "cell_type": "markdown",
   "metadata": {
    "slideshow": {
     "slide_type": "slide"
    }
   },
   "source": [
    "<h1><center>DBSCAN</center></h1>\n",
    "\n",
    "<center><img src=\"img/dbscan.png\" align=\"center\"/></center>\n",
    "\n",
    "<font size='1'>Image from Ref[1]</font>"
   ]
  },
  {
   "cell_type": "markdown",
   "metadata": {
    "slideshow": {
     "slide_type": "slide"
    }
   },
   "source": [
    "<h1><center>DBSCAN</center></h1>\n",
    "\n",
    "- DBSCAN is a very simple yet powerful algorithm capable of identifying any number of clusters of any shape.\n",
    "\n",
    "\n",
    "- It is robust to outliers, and it has just two hyperparameters ( `eps` and `min_samples` ).\n",
    "\n",
    "\n",
    "- If the density varies significantly across the clusters, however, it can be impossible for it to capture all the clusters properly.\n",
    "\n",
    "\n",
    "- Its computational complexity is roughly $O(m \\log m)$, making it pretty close to linear with regard to the number of instances"
   ]
  },
  {
   "cell_type": "markdown",
   "metadata": {
    "slideshow": {
     "slide_type": "slide"
    }
   },
   "source": [
    "<h1><center>Hierarchical Clustering - Agglomerative Clustering</center></h1>\n",
    "\n",
    "<center><img src=\"img/agglo-1.png\" align=\"center\"/></center>\n",
    "\n",
    "<font size='1'>Slide from Ref[5]</font>"
   ]
  },
  {
   "cell_type": "markdown",
   "metadata": {
    "slideshow": {
     "slide_type": "slide"
    }
   },
   "source": [
    "<h1><center>Hierarchical Clustering - Agglomerative Clustering</center></h1>\n",
    "\n",
    "<center><img src=\"img/agglo-2.png\" align=\"center\"/></center>\n",
    "\n",
    "<font size='1'>Slide from Ref[5]</font>"
   ]
  },
  {
   "cell_type": "markdown",
   "metadata": {
    "slideshow": {
     "slide_type": "slide"
    }
   },
   "source": [
    "<h1><center>Hierarchical Clustering - Agglomerative Clustering</center></h1>\n",
    "\n",
    "<center><img src=\"img/agglo-3.png\" align=\"center\"/></center>\n",
    "\n",
    "<font size='1'>Slide from Ref[5]</font>"
   ]
  },
  {
   "cell_type": "markdown",
   "metadata": {
    "slideshow": {
     "slide_type": "slide"
    }
   },
   "source": [
    "<h1><center>Gaussian Mixture Model (GMM)</center></h1>\n",
    "\n",
    "- A Gaussian mixture model (GMM) is a probabilistic model that assumes that the instances were generated from a mixture of several **Gaussian** distributions whose parameters are unknown.\n",
    "\n",
    "<center><img src=\"img/gmm-1.png\" align=\"center\"/></center>\n",
    "\n",
    "<font size='1'>Image from Ref[8]</font>"
   ]
  },
  {
   "cell_type": "markdown",
   "metadata": {
    "slideshow": {
     "slide_type": "slide"
    }
   },
   "source": [
    "<h1><center>Gaussian Distribution</center></h1>\n",
    "\n",
    "$$\n",
    "p(x) = \\frac{1}{\\sqrt{2\\pi\\sigma^2}} e^{-\\frac{1}{2}\\frac{||x - \\mu||^2}{\\sigma^2}}\n",
    "$$\n",
    "\n",
    "where $\\mu$ is mean and\n",
    "$\\sigma$ is standard deviation, and thus variance is $\\sigma^2$."
   ]
  },
  {
   "cell_type": "code",
   "execution_count": 12,
   "metadata": {
    "slideshow": {
     "slide_type": "slide"
    }
   },
   "outputs": [
    {
     "data": {
      "image/png": "[encoded data removed]",
      "text/plain": [
       "<Figure size 432x288 with 1 Axes>"
      ]
     },
     "metadata": {
      "needs_background": "light"
     },
     "output_type": "display_data"
    }
   ],
   "source": [
    "# Gaussian (Normal) Distribution\n",
    "\n",
    "import numpy as np\n",
    "import matplotlib.pyplot as plt\n",
    "%matplotlib inline\n",
    "\n",
    "xs = np.linspace(-5,15,1000)\n",
    "mu = 5.5\n",
    "\n",
    "plt.plot(xs, np.exp(-0.1 * (xs-mu)**2))\n",
    "plt.plot([mu, mu], [0, 1], 'r--',lw=3)\n",
    "plt.xlabel('$x$')\n",
    "plt.ylabel('$p(x)$');"
   ]
  },
  {
   "cell_type": "markdown",
   "metadata": {
    "slideshow": {
     "slide_type": "slide"
    }
   },
   "source": [
    "<h1><center>Gaussian Distribution</center></h1>\n",
    "\n",
    "- All the instances generated from a single **Gaussian** distribution form a cluster that typically looks like an **ellipsoid**.\n",
    "\n",
    "<center><img src=\"img/ellipsoid.png\" align=\"center\"/></center>\n",
    "\n",
    "<font size='1'>Image from Ref[9]</font>"
   ]
  },
  {
   "cell_type": "code",
   "execution_count": 1,
   "metadata": {
    "slideshow": {
     "slide_type": "slide"
    }
   },
   "outputs": [
    {
     "data": {
      "application/vnd.jupyter.widget-view+json": {
       "model_id": "1eb41b72f48a4db28b66434a58086057",
       "version_major": 2,
       "version_minor": 0
      },
      "text/plain": [
       "interactive(children=(IntSlider(value=501, description='N', max=1000, min=2), FloatSlider(value=0.0, descripti…"
      ]
     },
     "metadata": {},
     "output_type": "display_data"
    },
    {
     "data": {
      "text/plain": [
       "<Figure size 576x576 with 0 Axes>"
      ]
     },
     "metadata": {},
     "output_type": "display_data"
    },
    {
     "data": {
      "text/plain": [
       "<Figure size 576x576 with 0 Axes>"
      ]
     },
     "metadata": {},
     "output_type": "display_data"
    },
    {
     "data": {
      "text/plain": [
       "<Figure size 576x576 with 0 Axes>"
      ]
     },
     "metadata": {},
     "output_type": "display_data"
    },
    {
     "data": {
      "text/plain": [
       "<Figure size 576x576 with 0 Axes>"
      ]
     },
     "metadata": {},
     "output_type": "display_data"
    },
    {
     "data": {
      "text/plain": [
       "<Figure size 576x576 with 0 Axes>"
      ]
     },
     "metadata": {},
     "output_type": "display_data"
    },
    {
     "data": {
      "text/plain": [
       "<Figure size 576x576 with 0 Axes>"
      ]
     },
     "metadata": {},
     "output_type": "display_data"
    },
    {
     "data": {
      "text/plain": [
       "<Figure size 576x576 with 0 Axes>"
      ]
     },
     "metadata": {},
     "output_type": "display_data"
    },
    {
     "data": {
      "text/plain": [
       "<Figure size 576x576 with 0 Axes>"
      ]
     },
     "metadata": {},
     "output_type": "display_data"
    },
    {
     "data": {
      "text/plain": [
       "<Figure size 576x576 with 0 Axes>"
      ]
     },
     "metadata": {},
     "output_type": "display_data"
    },
    {
     "data": {
      "text/plain": [
       "<Figure size 576x576 with 0 Axes>"
      ]
     },
     "metadata": {},
     "output_type": "display_data"
    },
    {
     "data": {
      "text/plain": [
       "<Figure size 576x576 with 0 Axes>"
      ]
     },
     "metadata": {},
     "output_type": "display_data"
    },
    {
     "data": {
      "text/plain": [
       "<Figure size 576x576 with 0 Axes>"
      ]
     },
     "metadata": {},
     "output_type": "display_data"
    },
    {
     "data": {
      "text/plain": [
       "<Figure size 576x576 with 0 Axes>"
      ]
     },
     "metadata": {},
     "output_type": "display_data"
    }
   ],
   "source": [
    "import numpy as np\n",
    "import matplotlib.pyplot as plt\n",
    "%matplotlib inline\n",
    "\n",
    "from ipywidgets import interact\n",
    "@interact(N=(2,1000), mux=(-10,10,0.1), muy=(-10,10,0.1), sigmax=(0.1,20,0.1), sigmay=(0.1,20,0.1), sigmaxy=(-10,10,0.1))\n",
    "\n",
    "def bunchOfData(N, mux, muy, sigmax, sigmay, sigmaxy):\n",
    "    plt.figure(figsize=(8,8))\n",
    "    xs = np.random.normal(0.0, 1.0, N)\n",
    "    ys = np.random.normal(0.0, 1.0, N)\n",
    "    X = np.vstack((xs,ys)).T\n",
    "    L = np.linalg.cholesky(np.array([[sigmax, sigmaxy],[sigmaxy, sigmay]]))\n",
    "    newX = np.dot(X,L.T) + [mux,muy]\n",
    "    plt.plot(newX[:,0], newX[:,1], 'bo', alpha=0.8);\n",
    "    plt.xlim(-15,15)\n",
    "    plt.ylim(-15,15);"
   ]
  },
  {
   "cell_type": "markdown",
   "metadata": {
    "slideshow": {
     "slide_type": "slide"
    }
   },
   "source": [
    "<h1><center>GMM Example</center></h1>\n",
    "\n",
    "<center><img src=\"img/uw-1.png\" align=\"center\"/></center>\n",
    "\n",
    "<font size='1'>Image from Ref[10]</font>"
   ]
  },
  {
   "cell_type": "markdown",
   "metadata": {
    "slideshow": {
     "slide_type": "slide"
    }
   },
   "source": [
    "<h1><center>GMM Example Cont.</center></h1>\n",
    "\n",
    "<center><img src=\"img/uw-2.png\" align=\"center\"/></center>\n",
    "\n",
    "<font size='1'>Image from Ref[10]</font>"
   ]
  },
  {
   "cell_type": "markdown",
   "metadata": {
    "slideshow": {
     "slide_type": "slide"
    }
   },
   "source": [
    "<h1><center>GMM Example Cont.</center></h1>\n",
    "\n",
    "<center><img src=\"img/uw-3.png\" align=\"center\"/></center>\n",
    "\n",
    "<font size='1'>Image from Ref[10]</font>"
   ]
  },
  {
   "cell_type": "markdown",
   "metadata": {
    "slideshow": {
     "slide_type": "slide"
    }
   },
   "source": [
    "<h1><center>GMM Example Cont.</center></h1>\n",
    "\n",
    "<center><img src=\"img/uw-4.png\" align=\"center\"/></center>\n",
    "\n",
    "<font size='1'>Image from Ref[10]</font>"
   ]
  },
  {
   "cell_type": "markdown",
   "metadata": {
    "slideshow": {
     "slide_type": "slide"
    }
   },
   "source": [
    "<h1><center>GMM Example Cont.</center></h1>\n",
    "\n",
    "<center><img src=\"img/uw-5.png\" align=\"center\"/></center>\n",
    "\n",
    "<font size='1'>Image from Ref[10]</font>"
   ]
  },
  {
   "cell_type": "markdown",
   "metadata": {
    "slideshow": {
     "slide_type": "slide"
    }
   },
   "source": [
    "<h1><center>GMM Example Cont. - 3D Projection</center></h1>\n",
    "\n",
    "<center><img src=\"img/uw-7.png\" align=\"center\"/></center>\n",
    "\n",
    "<font size='1'>Image from Ref[10]</font>"
   ]
  },
  {
   "cell_type": "markdown",
   "metadata": {
    "slideshow": {
     "slide_type": "slide"
    }
   },
   "source": [
    "<h1><center>GMM 3D</center></h1>\n",
    "\n",
    "<center><img src=\"img/gmm-3d.gif\" align=\"center\"/></center>\n",
    "\n",
    "<font size='1'>Image from Ref[11]</font>"
   ]
  },
  {
   "cell_type": "markdown",
   "metadata": {
    "slideshow": {
     "slide_type": "slide"
    }
   },
   "source": [
    "<h1><center>Gaussian 3D to 2D Projection</center></h1>\n",
    "\n",
    "<center><img src=\"img/gmm-3d-2d.png\" align=\"center\"/></center>\n",
    "\n",
    "<font size='1'>Image from Ref[12]</font>"
   ]
  },
  {
   "cell_type": "markdown",
   "metadata": {
    "slideshow": {
     "slide_type": "slide"
    }
   },
   "source": [
    "<h1><center>GMM Example Cont. - Prior Probability</center></h1>\n",
    "\n",
    "<center><img src=\"img/uw-8-1.png\" align=\"center\"/></center>\n",
    "\n",
    "<center><img src=\"img/uw-8-2.png\" align=\"center\"/></center>\n",
    "\n",
    "<font size='1'>Image from Ref[10]</font>"
   ]
  },
  {
   "cell_type": "markdown",
   "metadata": {
    "slideshow": {
     "slide_type": "slide"
    }
   },
   "source": [
    "<h1><center>GMM Example Cont. - Likelihood</center></h1>\n",
    "\n",
    "<center><img src=\"img/uw-9-1.png\" align=\"center\"/></center>\n",
    "\n",
    "<center><img src=\"img/uw-9-2.png\" align=\"center\"/></center>\n",
    "\n",
    "<font size='1'>Image from Ref[10]</font>"
   ]
  },
  {
   "cell_type": "markdown",
   "metadata": {
    "slideshow": {
     "slide_type": "slide"
    }
   },
   "source": [
    "<h1><center>GMM Diagram</center></h1>\n",
    "\n",
    "<center><img src=\"img/gmm-diagram.png\" align=\"center\"/></center>\n",
    "\n",
    "<font size='1'>Image from Ref[1]</font>"
   ]
  },
  {
   "cell_type": "markdown",
   "metadata": {
    "slideshow": {
     "slide_type": "slide"
    }
   },
   "source": [
    "<h1><center>GMM and Expectation Maximization (EM) Algorithm</center></h1>\n",
    "\n",
    "- Expectation Maximization (EM) algorithm attempts estimating the weights $\\phi$ and all the distribution parameters $\\mu^{(1)}$ to $\\mu^{(k)}$ and $\\sum^{(1)}$ to $\\sum^{(k)}$ given the dataset X.\n",
    "\n",
    "\n",
    "- EM has many similarities with the K-Means algorithm. It initializes the cluster parameters randomly, then it repeats two steps until convergence:\n",
    "    - First, assigning instances to clusters - this is called the **expectation step**.\n",
    "    - Then, updating the clusters - this is called the **maximization step**.\n",
    "    \n",
    "    \n",
    "- In the context of clustering, you can think of EM as a generalization of K-Means that not only finds the cluster centers $\\mu^{(1)}$ to $\\mu^{(k)}$, but also their size, shape, and orientation $\\sum^{(1)}$ to $\\sum^{(k)}$​, as well as their relative weights $\\phi^{(1)}$ to $\\phi^{(k)}$."
   ]
  },
  {
   "cell_type": "markdown",
   "metadata": {
    "slideshow": {
     "slide_type": "slide"
    }
   },
   "source": [
    "<h1><center>EM Algorithm Cont.</center></h1>\n",
    "\n",
    "- Unlike K-Means, EM uses **soft** cluster assignments, not **hard** assignments.\n",
    "\n",
    "\n",
    "- For each instance, during the **expectation step**, the algorithm estimates the probability that it belongs to each cluster (based on the current cluster parameters).\n",
    "\n",
    "\n",
    "- Then, during the **maximization step**, each cluster is updated using all the instances in the dataset, with each instance weighted by the estimated probability that it belongs to that cluster.\n",
    "\n",
    "\n",
    "- These probabilities are called the **responsibilities** of the clusters for the instances.\n",
    "\n",
    "\n",
    "- During the **maximization step**, each cluster’s update will mostly be impacted by the instances it is most **responsible** for."
   ]
  },
  {
   "cell_type": "markdown",
   "metadata": {
    "slideshow": {
     "slide_type": "slide"
    }
   },
   "source": [
    "<h1><center>Likelihood Function</center></h1>\n",
    "\n",
    "- Given a statistical model with some parameters θ, the word **probability** is used to describe how plausible a future outcome x is (knowing the parameter values θ), while the word **likelihood** is used to describe how plausible a particular set of parameter values θ are, after the outcome x is known.\n",
    "\n",
    "<center><img src=\"img/likelihood-function.png\" align=\"center\"/></center>\n",
    "\n",
    "<font size='1'>Image from Ref[1]</font>"
   ]
  },
  {
   "cell_type": "markdown",
   "metadata": {
    "slideshow": {
     "slide_type": "slide"
    }
   },
   "source": [
    "<h1><center>Maximum Likelihood Estimation (MLE)</center></h1>\n",
    "\n",
    "- Given a dataset X, a common task is to try to estimate the most likely values for the model parameters.\n",
    "\n",
    "\n",
    "- To do this, you must find the values that maximize the **likelihood function**, given X.\n",
    "\n",
    "\n",
    "- In the example shown in the previous slide, if you have observed a single instance x=2.5, the **Maximum Likelihood Estimate (MLE)** of θ is θ =1.5\n",
    "\n",
    "\n",
    "- If a prior probability distribution g over θ exists, it is possible to take it into account by maximizing L(θ|x)g(θ) rather than just maximizing L(θ|x). This is called **Maximum A-Posteriori (MAP)** estimation.\n",
    "\n",
    "\n",
    "- Since MAP constrains the parameter values, you can think of it as a regularized version of MLE."
   ]
  },
  {
   "cell_type": "markdown",
   "metadata": {
    "slideshow": {
     "slide_type": "slide"
    }
   },
   "source": [
    "<h1><center>BIC and AIC</center></h1>\n",
    "\n",
    "- With K-Means, you could use the **inertia** or the **silhouette score** to select the appropriate number of clusters. But with Gaussian mixtures, it is not possible to use these metrics because they are not reliable when the clusters are not spherical or have different sizes.\n",
    "\n",
    "\n",
    "- Instead, you can try to find the model that minimizes a theoretical information criterion, such as the Bayesian Information Criterion (BIC) or the Akaike Information Criterion (AIC)\n",
    "\n",
    "\n",
    "<center><img src=\"img/bic.png\" align=\"center\"/></center>\n",
    "\n",
    "<font size='1'>Equation from Ref[1]</font>"
   ]
  },
  {
   "cell_type": "markdown",
   "metadata": {
    "slideshow": {
     "slide_type": "slide"
    }
   },
   "source": [
    "<h1><center>Bayes Theorem</center></h1>\n",
    "\n",
    "<center><img src=\"img/bayes.png\" align=\"center\"/></center>\n",
    "\n",
    "<font size='1'>Equation from Ref[1]</font>"
   ]
  },
  {
   "cell_type": "markdown",
   "metadata": {
    "slideshow": {
     "slide_type": "slide"
    }
   },
   "source": [
    "<h1><center>Bayesian GMM </center></h1>\n",
    "\n",
    "- Rather than manually searching for the optimal number of clusters, you can use the `BayesianGaussianMixture` class, which is capable of giving weights equal (or close) to zero to unnecessary clusters.\n",
    "\n",
    "\n",
    "- Set the number of clusters `n_components` to a value that you have good reason to believe is greater than the optimal number of clusters (this assumes some minimal knowledge about the problem at hand), and the algorithm will eliminate the unnecessary clusters automatically."
   ]
  },
  {
   "cell_type": "markdown",
   "metadata": {
    "slideshow": {
     "slide_type": "slide"
    }
   },
   "source": [
    "<h1><center>Coming Up Next: Deep Learning</center></h1>"
   ]
  },
  {
   "cell_type": "markdown",
   "metadata": {
    "slideshow": {
     "slide_type": "notes"
    }
   },
   "source": [
    "<h1><center>References</center></h1>\n",
    "\n",
    "[1] Hands-On ML Textbook Edition-2 2019\n",
    "\n",
    "[2] Clustering [Slides from UIowa](http://user.engineering.uiowa.edu/~ie_155/Lecture/K-means.pdf)\n",
    "\n",
    "[3] Clustering [Slides from MIT](http://www.mit.edu/~9.54/fall14/slides/Class13.pdf)\n",
    "\n",
    "[4] Clustering [Slides from CMU](https://www.cs.cmu.edu/~epxing/Class/10701/slides/clustering.pdf)\n",
    "\n",
    "[5] Clustering [David Sontag's Slides from NYU](http://people.csail.mit.edu/dsontag/courses/ml12/slides/lecture14.pdf) Slides adapted from Luke Zettlemoyer, Vibhav Gogate, Carlos Guestrin, Andrew Moore, Dan Klein\n",
    "\n",
    "[6] [Silhouette Loss Function Metric](https://platform.ai/blog/page/11/the-silhouette-loss-function-metric-learning-with-a-cluster-validity-index/)\n",
    "\n",
    "[7] https://towardsdatascience.com/image-segmentation-on-apache-spark-46164dd53c73\n",
    "\n",
    "[8] https://towardsdatascience.com/gaussian-mixture-models-explained-6986aaf5a95\n",
    "\n",
    "[9] https://www.visiondummy.com/2014/04/draw-error-ellipse-representing-covariance-matrix/\n",
    "\n",
    "[10] [Machine Learning Specialization at Coursera - University of Washington](https://www.coursera.org/specializations/machine-learning)\n",
    "\n",
    "[11] https://stackoverflow.com/questions/26019584/understanding-concept-of-gaussian-mixture-models\n",
    "\n",
    "[12] https://pythonmachinelearning.pro/clustering-with-gaussian-mixture-models/"
   ]
  }
 ],
 "metadata": {
  "celltoolbar": "Slideshow",
  "kernelspec": {
   "display_name": "Python 3",
   "language": "python",
   "name": "python3"
  },
  "language_info": {
   "codemirror_mode": {
    "name": "ipython",
    "version": 3
   },
   "file_extension": ".py",
   "mimetype": "text/x-python",
   "name": "python",
   "nbconvert_exporter": "python",
   "pygments_lexer": "ipython3",
   "version": "3.7.3"
  }
 },
 "nbformat": 4,
 "nbformat_minor": 2
}
